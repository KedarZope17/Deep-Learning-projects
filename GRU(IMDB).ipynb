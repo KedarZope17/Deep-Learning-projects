{
  "cells": [
    {
      "cell_type": "code",
      "execution_count": 1,
      "id": "f9614e27",
      "metadata": {
        "id": "f9614e27"
      },
      "outputs": [],
      "source": [
        "from tensorflow.keras.datasets import imdb\n",
        "from tensorflow.keras.layers import GRU, Activation\n",
        "from tensorflow.keras.preprocessing.sequence import pad_sequences\n",
        "from tensorflow.keras.models import Sequential\n",
        "from tensorflow.keras.layers import Dropout\n",
        "num_words = 300\n",
        "maxlen = 300\n",
        "(X_train,Y_train), (X_test,Y_test) = imdb.load_data(num_words = num_words)"
      ]
    },
    {
      "cell_type": "code",
      "execution_count": 2,
      "id": "049750d5",
      "metadata": {
        "colab": {
          "base_uri": "https://localhost:8080/"
        },
        "id": "049750d5",
        "outputId": "a112d741-8d57-4304-db07-3a03eb97c0e1"
      },
      "outputs": [
        {
          "output_type": "stream",
          "name": "stdout",
          "text": [
            "(25000, 300)\n",
            "(25000, 300)\n"
          ]
        }
      ],
      "source": [
        "# pad the sequences with zeros \n",
        "# padding parameter is set to 'post' => 0's are appended to end of sequences\n",
        "X_train = pad_sequences(X_train, maxlen = maxlen, padding = 'post')\n",
        "X_test = pad_sequences(X_test, maxlen = maxlen, padding = 'post')\n",
        "print(X_train.shape)\n",
        "print(X_test.shape)"
      ]
    },
    {
      "cell_type": "code",
      "execution_count": 3,
      "id": "acfa4aa2",
      "metadata": {
        "colab": {
          "base_uri": "https://localhost:8080/"
        },
        "id": "acfa4aa2",
        "outputId": "ddd8a2d7-3b8e-46b0-f45d-dab6e6b5ebfc"
      },
      "outputs": [
        {
          "output_type": "stream",
          "name": "stdout",
          "text": [
            "(25000, 300, 1)\n",
            "(25000, 300, 1)\n"
          ]
        }
      ],
      "source": [
        "#GRU requires 3D data, thus reshape it from 2D to 3D\n",
        "X_train = X_train.reshape(X_train.shape + (1,))\n",
        "X_test = X_test.reshape(X_test.shape + (1,))\n",
        "print(X_train.shape)\n",
        "print(X_test.shape)"
      ]
    },
    {
      "cell_type": "code",
      "execution_count": 4,
      "id": "b09326b4",
      "metadata": {
        "colab": {
          "base_uri": "https://localhost:8080/"
        },
        "id": "b09326b4",
        "outputId": "434c0ba7-b443-4de7-a778-9f020b008cdf"
      },
      "outputs": [
        {
          "output_type": "execute_result",
          "data": {
            "text/plain": [
              "<keras.engine.sequential.Sequential at 0x7ff3396be250>"
            ]
          },
          "metadata": {},
          "execution_count": 4
        }
      ],
      "source": [
        "def gru_model():\n",
        "    model = Sequential()\n",
        "    model.add(GRU(50, input_shape = (300,1), return_sequences = True))\n",
        "    model.add(Dropout(0.2))\n",
        "    model.add(GRU(50, input_shape = (300,1), return_sequences = True))\n",
        "    model.add(Dropout(0.2))\n",
        "    model.add(GRU(50, input_shape = (300,1), return_sequences = True))\n",
        "    model.add(Dropout(0.2))\n",
        "    model.add(GRU(50, input_shape = (300,1), return_sequences = True))\n",
        "    model.add(Dropout(0.2))\n",
        "    model.add(GRU(50, input_shape = (300,1), return_sequences = True))\n",
        "    model.add(Dropout(0.2))\n",
        "    model.add(GRU(50, input_shape = (300,1), return_sequences = True))\n",
        "    model.add(Dropout(0.2))\n",
        "    model.add(GRU(50, input_shape = (300,1), return_sequences = True))\n",
        "    model.add(Dropout(0.2))\n",
        "    model.add(GRU(1, return_sequences = False))\n",
        "    model.add(Activation('sigmoid'))\n",
        "    \n",
        "    model.compile(loss = 'binary_crossentropy', optimizer = 'adam', metrics = ['accuracy'])\n",
        "    return model\n",
        "IMDB_GRU = gru_model()\n",
        "IMDB_GRU"
      ]
    },
    {
      "cell_type": "code",
      "execution_count": 5,
      "id": "41274cda",
      "metadata": {
        "scrolled": true,
        "colab": {
          "base_uri": "https://localhost:8080/"
        },
        "id": "41274cda",
        "outputId": "49be4aa8-3511-478b-99f9-7d78c95abe5c"
      },
      "outputs": [
        {
          "output_type": "stream",
          "name": "stdout",
          "text": [
            "Epoch 1/50\n",
            "167/167 [==============================] - 34s 136ms/step - loss: 0.6935 - accuracy: 0.5044 - val_loss: 0.6936 - val_accuracy: 0.5023\n",
            "Epoch 2/50\n",
            "167/167 [==============================] - 20s 119ms/step - loss: 0.6928 - accuracy: 0.5115 - val_loss: 0.6938 - val_accuracy: 0.5068\n",
            "Epoch 3/50\n",
            "167/167 [==============================] - 20s 119ms/step - loss: 0.6927 - accuracy: 0.5094 - val_loss: 0.6959 - val_accuracy: 0.5010\n",
            "Epoch 4/50\n",
            "167/167 [==============================] - 20s 119ms/step - loss: 0.6930 - accuracy: 0.5085 - val_loss: 0.6928 - val_accuracy: 0.5044\n",
            "Epoch 5/50\n",
            "167/167 [==============================] - 20s 119ms/step - loss: 0.6929 - accuracy: 0.5051 - val_loss: 0.6926 - val_accuracy: 0.5069\n",
            "Epoch 6/50\n",
            "167/167 [==============================] - 20s 119ms/step - loss: 0.6922 - accuracy: 0.5118 - val_loss: 0.6925 - val_accuracy: 0.5096\n",
            "Epoch 7/50\n",
            "167/167 [==============================] - 20s 119ms/step - loss: 0.6919 - accuracy: 0.5115 - val_loss: 0.6928 - val_accuracy: 0.5034\n",
            "Epoch 8/50\n",
            "167/167 [==============================] - 20s 119ms/step - loss: 0.6912 - accuracy: 0.5100 - val_loss: 0.6916 - val_accuracy: 0.5138\n",
            "Epoch 9/50\n",
            "167/167 [==============================] - 20s 117ms/step - loss: 0.6902 - accuracy: 0.5136 - val_loss: 0.6972 - val_accuracy: 0.5086\n",
            "Epoch 10/50\n",
            "167/167 [==============================] - 19s 116ms/step - loss: 0.6903 - accuracy: 0.5148 - val_loss: 0.6909 - val_accuracy: 0.5139\n",
            "Epoch 11/50\n",
            "167/167 [==============================] - 19s 116ms/step - loss: 0.6871 - accuracy: 0.5276 - val_loss: 0.6926 - val_accuracy: 0.5153\n",
            "Epoch 12/50\n",
            "167/167 [==============================] - 19s 116ms/step - loss: 0.6877 - accuracy: 0.5215 - val_loss: 0.6943 - val_accuracy: 0.5139\n",
            "Epoch 13/50\n",
            "167/167 [==============================] - 20s 118ms/step - loss: 0.6866 - accuracy: 0.5232 - val_loss: 0.6897 - val_accuracy: 0.5172\n",
            "Epoch 14/50\n",
            "167/167 [==============================] - 20s 117ms/step - loss: 0.6862 - accuracy: 0.5248 - val_loss: 0.6908 - val_accuracy: 0.5170\n",
            "Epoch 15/50\n",
            "167/167 [==============================] - 20s 117ms/step - loss: 0.6853 - accuracy: 0.5211 - val_loss: 0.6902 - val_accuracy: 0.5159\n",
            "Epoch 16/50\n",
            "167/167 [==============================] - 19s 116ms/step - loss: 0.6850 - accuracy: 0.5276 - val_loss: 0.6949 - val_accuracy: 0.5123\n",
            "Epoch 17/50\n",
            "167/167 [==============================] - 19s 117ms/step - loss: 0.6843 - accuracy: 0.5338 - val_loss: 0.6892 - val_accuracy: 0.5168\n",
            "Epoch 18/50\n",
            "167/167 [==============================] - 19s 117ms/step - loss: 0.6833 - accuracy: 0.5314 - val_loss: 0.6892 - val_accuracy: 0.5235\n",
            "Epoch 19/50\n",
            "167/167 [==============================] - 20s 117ms/step - loss: 0.6830 - accuracy: 0.5364 - val_loss: 0.6899 - val_accuracy: 0.5202\n",
            "Epoch 20/50\n",
            "167/167 [==============================] - 20s 118ms/step - loss: 0.6836 - accuracy: 0.5279 - val_loss: 0.6885 - val_accuracy: 0.5205\n",
            "Epoch 21/50\n",
            "167/167 [==============================] - 20s 118ms/step - loss: 0.6793 - accuracy: 0.5570 - val_loss: 0.6811 - val_accuracy: 0.5637\n",
            "Epoch 22/50\n",
            "167/167 [==============================] - 20s 118ms/step - loss: 0.6746 - accuracy: 0.5747 - val_loss: 0.6834 - val_accuracy: 0.5678\n",
            "Epoch 23/50\n",
            "167/167 [==============================] - 20s 118ms/step - loss: 0.6729 - accuracy: 0.5800 - val_loss: 0.6834 - val_accuracy: 0.5588\n",
            "Epoch 24/50\n",
            "167/167 [==============================] - 20s 118ms/step - loss: 0.6696 - accuracy: 0.5873 - val_loss: 0.6797 - val_accuracy: 0.5676\n",
            "Epoch 25/50\n",
            "167/167 [==============================] - 20s 118ms/step - loss: 0.6702 - accuracy: 0.5870 - val_loss: 0.6762 - val_accuracy: 0.5781\n",
            "Epoch 26/50\n",
            "167/167 [==============================] - 20s 118ms/step - loss: 0.6654 - accuracy: 0.5960 - val_loss: 0.6907 - val_accuracy: 0.5594\n",
            "Epoch 27/50\n",
            "167/167 [==============================] - 20s 118ms/step - loss: 0.6644 - accuracy: 0.5960 - val_loss: 0.6826 - val_accuracy: 0.5720\n",
            "Epoch 28/50\n",
            "167/167 [==============================] - 20s 118ms/step - loss: 0.6618 - accuracy: 0.6033 - val_loss: 0.6768 - val_accuracy: 0.5816\n",
            "Epoch 29/50\n",
            "167/167 [==============================] - 20s 119ms/step - loss: 0.6601 - accuracy: 0.6045 - val_loss: 0.6771 - val_accuracy: 0.5826\n",
            "Epoch 30/50\n",
            "167/167 [==============================] - 20s 118ms/step - loss: 0.6586 - accuracy: 0.6060 - val_loss: 0.6763 - val_accuracy: 0.5790\n",
            "Epoch 31/50\n",
            "167/167 [==============================] - 20s 118ms/step - loss: 0.6558 - accuracy: 0.6138 - val_loss: 0.6799 - val_accuracy: 0.5807\n",
            "Epoch 32/50\n",
            "167/167 [==============================] - 20s 118ms/step - loss: 0.6530 - accuracy: 0.6185 - val_loss: 0.6765 - val_accuracy: 0.5780\n",
            "Epoch 33/50\n",
            "167/167 [==============================] - 20s 119ms/step - loss: 0.6519 - accuracy: 0.6179 - val_loss: 0.6767 - val_accuracy: 0.5817\n",
            "Epoch 34/50\n",
            "167/167 [==============================] - 20s 118ms/step - loss: 0.6504 - accuracy: 0.6220 - val_loss: 0.6799 - val_accuracy: 0.5851\n",
            "Epoch 35/50\n",
            "167/167 [==============================] - 20s 119ms/step - loss: 0.6470 - accuracy: 0.6277 - val_loss: 0.6739 - val_accuracy: 0.5861\n",
            "Epoch 36/50\n",
            "167/167 [==============================] - 20s 118ms/step - loss: 0.6440 - accuracy: 0.6330 - val_loss: 0.6746 - val_accuracy: 0.5882\n",
            "Epoch 37/50\n",
            "167/167 [==============================] - 20s 119ms/step - loss: 0.6413 - accuracy: 0.6359 - val_loss: 0.6789 - val_accuracy: 0.5818\n",
            "Epoch 38/50\n",
            "167/167 [==============================] - 20s 118ms/step - loss: 0.6402 - accuracy: 0.6386 - val_loss: 0.6734 - val_accuracy: 0.5850\n",
            "Epoch 39/50\n",
            "167/167 [==============================] - 20s 119ms/step - loss: 0.6368 - accuracy: 0.6418 - val_loss: 0.6758 - val_accuracy: 0.5899\n",
            "Epoch 40/50\n",
            "167/167 [==============================] - 20s 119ms/step - loss: 0.6348 - accuracy: 0.6456 - val_loss: 0.6831 - val_accuracy: 0.5816\n",
            "Epoch 41/50\n",
            "167/167 [==============================] - 20s 119ms/step - loss: 0.6333 - accuracy: 0.6469 - val_loss: 0.6769 - val_accuracy: 0.5919\n",
            "Epoch 42/50\n",
            "167/167 [==============================] - 20s 119ms/step - loss: 0.6307 - accuracy: 0.6521 - val_loss: 0.6906 - val_accuracy: 0.5738\n",
            "Epoch 43/50\n",
            "167/167 [==============================] - 20s 119ms/step - loss: 0.6314 - accuracy: 0.6526 - val_loss: 0.6756 - val_accuracy: 0.5853\n",
            "Epoch 44/50\n",
            "167/167 [==============================] - 20s 118ms/step - loss: 0.6245 - accuracy: 0.6574 - val_loss: 0.6863 - val_accuracy: 0.5891\n",
            "Epoch 45/50\n",
            "167/167 [==============================] - 20s 119ms/step - loss: 0.6236 - accuracy: 0.6610 - val_loss: 0.6836 - val_accuracy: 0.5868\n",
            "Epoch 46/50\n",
            "167/167 [==============================] - 20s 119ms/step - loss: 0.6206 - accuracy: 0.6642 - val_loss: 0.6832 - val_accuracy: 0.5838\n",
            "Epoch 47/50\n",
            "167/167 [==============================] - 20s 118ms/step - loss: 0.6190 - accuracy: 0.6684 - val_loss: 0.6800 - val_accuracy: 0.5879\n",
            "Epoch 48/50\n",
            "167/167 [==============================] - 20s 119ms/step - loss: 0.6195 - accuracy: 0.6681 - val_loss: 0.6851 - val_accuracy: 0.5853\n",
            "Epoch 49/50\n",
            "167/167 [==============================] - 20s 119ms/step - loss: 0.6142 - accuracy: 0.6742 - val_loss: 0.6776 - val_accuracy: 0.5906\n",
            "Epoch 50/50\n",
            "167/167 [==============================] - 20s 119ms/step - loss: 0.6103 - accuracy: 0.6795 - val_loss: 0.6857 - val_accuracy: 0.5829\n"
          ]
        },
        {
          "output_type": "execute_result",
          "data": {
            "text/plain": [
              "<keras.callbacks.History at 0x7ff33992ab50>"
            ]
          },
          "metadata": {},
          "execution_count": 5
        }
      ],
      "source": [
        "IMDB_GRU.fit(X_train, Y_train, batch_size = 150, epochs = 50, verbose = 1,validation_data = (X_test,Y_test))"
      ]
    },
    {
      "cell_type": "code",
      "execution_count": 6,
      "id": "e9c03002",
      "metadata": {
        "colab": {
          "base_uri": "https://localhost:8080/"
        },
        "id": "e9c03002",
        "outputId": "6a327d0f-ccaf-44b6-bebd-fc72046880a8"
      },
      "outputs": [
        {
          "output_type": "stream",
          "name": "stdout",
          "text": [
            "782/782 [==============================] - 24s 31ms/step - loss: 0.6857 - accuracy: 0.5829\n"
          ]
        }
      ],
      "source": [
        "scores = IMDB_GRU.evaluate(X_test, Y_test, verbose=1)"
      ]
    },
    {
      "cell_type": "markdown",
      "id": "f620adbf",
      "metadata": {
        "id": "f620adbf"
      },
      "source": [
        ""
      ]
    }
  ],
  "metadata": {
    "kernelspec": {
      "display_name": "Python 3",
      "language": "python",
      "name": "python3"
    },
    "language_info": {
      "codemirror_mode": {
        "name": "ipython",
        "version": 3
      },
      "file_extension": ".py",
      "mimetype": "text/x-python",
      "name": "python",
      "nbconvert_exporter": "python",
      "pygments_lexer": "ipython3",
      "version": "3.8.8"
    },
    "colab": {
      "name": "GRU(IMDB).ipynb",
      "provenance": [],
      "collapsed_sections": []
    },
    "accelerator": "GPU",
    "gpuClass": "standard"
  },
  "nbformat": 4,
  "nbformat_minor": 5
}