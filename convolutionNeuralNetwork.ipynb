{
 "cells": [
  {
   "cell_type": "code",
   "execution_count": 1,
   "id": "650d5c84",
   "metadata": {},
   "outputs": [],
   "source": [
    "from tensorflow import keras"
   ]
  },
  {
   "cell_type": "code",
   "execution_count": 2,
   "id": "0442b1b3",
   "metadata": {},
   "outputs": [],
   "source": [
    "# Importing all necessary libraries\n",
    "from tensorflow.keras.preprocessing.image import ImageDataGenerator\n",
    "from tensorflow.keras.models import Sequential\n",
    "from tensorflow.keras.layers import Conv2D, MaxPooling2D\n",
    "from tensorflow.keras.layers import Activation, Dropout, Flatten, Dense\n",
    "from tensorflow.keras import backend as K\n",
    " \n",
    "img_width, img_height = 224, 224"
   ]
  },
  {
   "cell_type": "code",
   "execution_count": 3,
   "id": "ae583b70",
   "metadata": {},
   "outputs": [],
   "source": [
    "train_data_dir = 'v_data/train'\n",
    "validation_data_dir = 'v_data/test'\n",
    "nb_train_samples = 400\n",
    "nb_validation_samples = 100\n",
    "epochs = 3\n",
    "batch_size = 16"
   ]
  },
  {
   "cell_type": "code",
   "execution_count": 4,
   "id": "9f443468",
   "metadata": {},
   "outputs": [],
   "source": [
    "\"\"\"\n",
    "This part is to check the data format i.e the RGB channel is coming first or last so, \n",
    "whatever it may be, the model will check first and then input shape will be fed accordingly. \n",
    "\"\"\"\n",
    "if K.image_data_format() == 'channels_first':\n",
    "    input_shape = (3, img_width, img_height)\n",
    "else:\n",
    "    input_shape = (img_width, img_height, 3)"
   ]
  },
  {
   "cell_type": "code",
   "execution_count": 5,
   "id": "c6c56399",
   "metadata": {},
   "outputs": [],
   "source": [
    "model = Sequential()\n",
    "model.add(Conv2D(32, (2, 2), input_shape=input_shape))\n",
    "model.add(Activation('relu'))\n",
    "model.add(MaxPooling2D(pool_size=(2, 2)))\n",
    " \n",
    "model.add(Conv2D(32, (2, 2)))\n",
    "model.add(Activation('relu'))\n",
    "model.add(MaxPooling2D(pool_size=(2, 2)))\n",
    " \n",
    "model.add(Conv2D(64, (2, 2)))\n",
    "model.add(Activation('relu'))\n",
    "model.add(MaxPooling2D(pool_size=(2, 2)))\n",
    " \n",
    "model.add(Flatten())\n",
    "model.add(Dense(64))\n",
    "model.add(Activation('relu'))\n",
    "model.add(Dropout(0.5))\n",
    "model.add(Dense(1))\n",
    "model.add(Activation('sigmoid'))"
   ]
  },
  {
   "cell_type": "code",
   "execution_count": 6,
   "id": "ecf711dc",
   "metadata": {},
   "outputs": [],
   "source": [
    "\n",
    "model.compile(loss='binary_crossentropy',\n",
    "              optimizer='adam',\n",
    "              metrics=['accuracy'])"
   ]
  },
  {
   "cell_type": "code",
   "execution_count": 7,
   "id": "e5875879",
   "metadata": {},
   "outputs": [
    {
     "name": "stdout",
     "output_type": "stream",
     "text": [
      "Found 400 images belonging to 2 classes.\n",
      "Found 100 images belonging to 2 classes.\n",
      "Epoch 1/3\n"
     ]
    },
    {
     "name": "stderr",
     "output_type": "stream",
     "text": [
      "<ipython-input-7-dceb8c655336>:17: UserWarning: `Model.fit_generator` is deprecated and will be removed in a future version. Please use `Model.fit`, which supports generators.\n",
      "  model.fit_generator(\n"
     ]
    },
    {
     "name": "stdout",
     "output_type": "stream",
     "text": [
      "25/25 [==============================] - 11s 421ms/step - loss: 46.6677 - accuracy: 0.5925 - val_loss: 0.5532 - val_accuracy: 0.6771\n",
      "Epoch 2/3\n",
      "25/25 [==============================] - 10s 409ms/step - loss: 0.4507 - accuracy: 0.7600 - val_loss: 0.2920 - val_accuracy: 0.8958\n",
      "Epoch 3/3\n",
      "25/25 [==============================] - 10s 402ms/step - loss: 0.4550 - accuracy: 0.8000 - val_loss: 0.2730 - val_accuracy: 0.9062\n"
     ]
    },
    {
     "data": {
      "text/plain": [
       "<keras.callbacks.History at 0x23534cd2400>"
      ]
     },
     "execution_count": 7,
     "metadata": {},
     "output_type": "execute_result"
    }
   ],
   "source": [
    "train_datagen = ImageDataGenerator()\n",
    " \n",
    "test_datagen = ImageDataGenerator()\n",
    " \n",
    "train_generator = train_datagen.flow_from_directory(\n",
    "    train_data_dir,\n",
    "    target_size=(img_width, img_height),\n",
    "    batch_size=batch_size,\n",
    "    class_mode='binary')\n",
    " \n",
    "validation_generator = test_datagen.flow_from_directory(\n",
    "    validation_data_dir,\n",
    "    target_size=(img_width, img_height),\n",
    "    batch_size=batch_size,\n",
    "    class_mode='binary')\n",
    " \n",
    "model.fit_generator(\n",
    "    train_generator,\n",
    "    steps_per_epoch=nb_train_samples // batch_size, \n",
    "    epochs=epochs,\n",
    "    validation_data=validation_generator,\n",
    "    validation_steps=nb_validation_samples // batch_size)"
   ]
  },
  {
   "cell_type": "code",
   "execution_count": 8,
   "id": "cc993ea4",
   "metadata": {},
   "outputs": [],
   "source": [
    "from tensorflow.keras.preprocessing.image import load_img\n",
    "image = load_img('v_data/test/cars/23.jpg', target_size=(224, 224))"
   ]
  },
  {
   "cell_type": "code",
   "execution_count": 9,
   "id": "0aac21b9",
   "metadata": {},
   "outputs": [],
   "source": [
    "import numpy as np\n",
    "img = np.array(image)\n"
   ]
  },
  {
   "cell_type": "code",
   "execution_count": 10,
   "id": "70671644",
   "metadata": {},
   "outputs": [
    {
     "data": {
      "text/plain": [
       "array([[[ 18,  15,  10],\n",
       "        [ 13,  10,   5],\n",
       "        [ 16,  13,   8],\n",
       "        ...,\n",
       "        [ 20,  15,  12],\n",
       "        [ 24,  19,  16],\n",
       "        [ 27,  22,  19]],\n",
       "\n",
       "       [[ 23,  20,  15],\n",
       "        [ 43,  40,  35],\n",
       "        [ 66,  63,  58],\n",
       "        ...,\n",
       "        [ 26,  21,  18],\n",
       "        [ 25,  20,  17],\n",
       "        [ 24,  19,  16]],\n",
       "\n",
       "       [[ 23,  20,  15],\n",
       "        [ 34,  31,  26],\n",
       "        [ 48,  45,  40],\n",
       "        ...,\n",
       "        [ 18,  13,  10],\n",
       "        [ 21,  16,  13],\n",
       "        [ 25,  20,  17]],\n",
       "\n",
       "       ...,\n",
       "\n",
       "       [[ 99,  95,  96],\n",
       "        [101,  97,  98],\n",
       "        [106, 102, 101],\n",
       "        ...,\n",
       "        [104, 103,  98],\n",
       "        [103, 103,  95],\n",
       "        [102, 102,  94]],\n",
       "\n",
       "       [[100,  96,  97],\n",
       "        [102,  98,  99],\n",
       "        [106, 102, 101],\n",
       "        ...,\n",
       "        [103, 102,  97],\n",
       "        [103, 103,  95],\n",
       "        [103, 103,  95]],\n",
       "\n",
       "       [[ 98,  94,  95],\n",
       "        [101,  97,  98],\n",
       "        [105, 101, 100],\n",
       "        ...,\n",
       "        [105, 104,  99],\n",
       "        [106, 106,  98],\n",
       "        [106, 106,  98]]], dtype=uint8)"
      ]
     },
     "execution_count": 10,
     "metadata": {},
     "output_type": "execute_result"
    }
   ],
   "source": [
    "img"
   ]
  },
  {
   "cell_type": "code",
   "execution_count": 11,
   "id": "c458a719",
   "metadata": {},
   "outputs": [],
   "source": [
    "img = img.reshape(1,224,224,3)"
   ]
  },
  {
   "cell_type": "code",
   "execution_count": 12,
   "id": "dfd28298",
   "metadata": {},
   "outputs": [
    {
     "data": {
      "text/plain": [
       "array([[[[ 18,  15,  10],\n",
       "         [ 13,  10,   5],\n",
       "         [ 16,  13,   8],\n",
       "         ...,\n",
       "         [ 20,  15,  12],\n",
       "         [ 24,  19,  16],\n",
       "         [ 27,  22,  19]],\n",
       "\n",
       "        [[ 23,  20,  15],\n",
       "         [ 43,  40,  35],\n",
       "         [ 66,  63,  58],\n",
       "         ...,\n",
       "         [ 26,  21,  18],\n",
       "         [ 25,  20,  17],\n",
       "         [ 24,  19,  16]],\n",
       "\n",
       "        [[ 23,  20,  15],\n",
       "         [ 34,  31,  26],\n",
       "         [ 48,  45,  40],\n",
       "         ...,\n",
       "         [ 18,  13,  10],\n",
       "         [ 21,  16,  13],\n",
       "         [ 25,  20,  17]],\n",
       "\n",
       "        ...,\n",
       "\n",
       "        [[ 99,  95,  96],\n",
       "         [101,  97,  98],\n",
       "         [106, 102, 101],\n",
       "         ...,\n",
       "         [104, 103,  98],\n",
       "         [103, 103,  95],\n",
       "         [102, 102,  94]],\n",
       "\n",
       "        [[100,  96,  97],\n",
       "         [102,  98,  99],\n",
       "         [106, 102, 101],\n",
       "         ...,\n",
       "         [103, 102,  97],\n",
       "         [103, 103,  95],\n",
       "         [103, 103,  95]],\n",
       "\n",
       "        [[ 98,  94,  95],\n",
       "         [101,  97,  98],\n",
       "         [105, 101, 100],\n",
       "         ...,\n",
       "         [105, 104,  99],\n",
       "         [106, 106,  98],\n",
       "         [106, 106,  98]]]], dtype=uint8)"
      ]
     },
     "execution_count": 12,
     "metadata": {},
     "output_type": "execute_result"
    }
   ],
   "source": [
    "img"
   ]
  },
  {
   "cell_type": "code",
   "execution_count": 13,
   "id": "fa4499e3",
   "metadata": {},
   "outputs": [
    {
     "name": "stdout",
     "output_type": "stream",
     "text": [
      "1/1 [==============================] - 0s 104ms/step\n"
     ]
    }
   ],
   "source": [
    "label = model.predict(img)"
   ]
  },
  {
   "cell_type": "code",
   "execution_count": 14,
   "id": "0fb2f155",
   "metadata": {},
   "outputs": [
    {
     "data": {
      "text/plain": [
       "array([[0.00049048]], dtype=float32)"
      ]
     },
     "execution_count": 14,
     "metadata": {},
     "output_type": "execute_result"
    }
   ],
   "source": [
    "label"
   ]
  },
  {
   "cell_type": "code",
   "execution_count": 15,
   "id": "c564fb40",
   "metadata": {},
   "outputs": [
    {
     "name": "stdout",
     "output_type": "stream",
     "text": [
      "car\n"
     ]
    }
   ],
   "source": [
    "if label[0][0]>=0.5:\n",
    "    print(\"plane\")\n",
    "else:\n",
    "    print(\"car\")"
   ]
  },
  {
   "cell_type": "code",
   "execution_count": 18,
   "id": "12203be8",
   "metadata": {},
   "outputs": [
    {
     "name": "stdout",
     "output_type": "stream",
     "text": [
      "1/1 [==============================] - 0s 30ms/step\n",
      "car\n"
     ]
    }
   ],
   "source": [
    "image = load_img('v_data/test/cars/5.jpg', target_size=(224, 224))\n",
    "img = np.array(image)\n",
    "img = img.reshape(1,224,224,3)\n",
    "label = model.predict(img)\n",
    "if label[0][0]>0.5:\n",
    "    print(\"plane\")\n",
    "else:\n",
    "    print(\"car\")"
   ]
  },
  {
   "cell_type": "code",
   "execution_count": 19,
   "id": "022d3292",
   "metadata": {},
   "outputs": [
    {
     "name": "stdout",
     "output_type": "stream",
     "text": [
      "1/1 [==============================] - 0s 32ms/step\n",
      "car\n"
     ]
    }
   ],
   "source": [
    "image = load_img('v_data/test/cars/15.jpg', target_size=(224, 224))\n",
    "img = np.array(image)\n",
    "img = img.reshape(1,224,224,3)\n",
    "label = model.predict(img)\n",
    "if label[0][0]>0.5:\n",
    "    print(\"plane\")\n",
    "else:\n",
    "    print(\"car\")"
   ]
  },
  {
   "cell_type": "code",
   "execution_count": null,
   "id": "790f0bec",
   "metadata": {},
   "outputs": [],
   "source": []
  },
  {
   "cell_type": "code",
   "execution_count": null,
   "id": "6748d53b",
   "metadata": {},
   "outputs": [],
   "source": []
  }
 ],
 "metadata": {
  "kernelspec": {
   "display_name": "Python 3",
   "language": "python",
   "name": "python3"
  },
  "language_info": {
   "codemirror_mode": {
    "name": "ipython",
    "version": 3
   },
   "file_extension": ".py",
   "mimetype": "text/x-python",
   "name": "python",
   "nbconvert_exporter": "python",
   "pygments_lexer": "ipython3",
   "version": "3.8.8"
  }
 },
 "nbformat": 4,
 "nbformat_minor": 5
}
